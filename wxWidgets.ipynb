{
 "cells": [
  {
   "cell_type": "markdown",
   "metadata": {},
   "source": [
    "# wxWidgets Installing Handle\n",
    "reference 1 https://www.wxwidgets.org/ <br>\n",
    "reference 2 https://wiki.wxwidgets.org/Compiling_and_getting_started\n",
    "<br>reference 3 https://docs.opencv.org/2.4/doc/tutorials/introduction/linux_install/linux_install.html\n",
    "<br><br> This file I want to use in ROS by catkin_make\n"
   ]
  },
  {
   "cell_type": "markdown",
   "metadata": {},
   "source": [
    "## 1. Download wxWidgets\n",
    "\\$ wget https://github.com/wxWidgets/wxWidgets/releases/download/v3.1.3/wxWidgets-3.1.3.tar.bz2\n",
    "\n",
    "\\$ mkdir wxWidgets  \n",
    "\n",
    "\\$ tar -xjf wxWidgets-3.1.3.tar.bz2 -C ./wxWidgets --strip-components=1\n",
    "\n",
    "Can read docs/gtk/readme.txt for get more information of install"
   ]
  },
  {
   "cell_type": "markdown",
   "metadata": {},
   "source": [
    "## 2. Setup Build Environment\n",
    "$ sudo apt-get install libgtk-3-dev build-essential checkinstall"
   ]
  },
  {
   "cell_type": "markdown",
   "metadata": {},
   "source": [
    "## 3. Compile wxWidgets\n",
    "$ cd wxWidgets\n",
    "\n",
    "$ mkdir build_gtk\n",
    "\n",
    "$ cd build_gtk\n",
    "\n",
    "$ cmake .. \n",
    "\n",
    "$ sudo make -j8\n",
    "\n",
    "if don't have error run below command <br>\n",
    "$ sudo make install\n",
    "\n",
    "$ sudo ldconfig"
   ]
  },
  {
   "cell_type": "markdown",
   "metadata": {},
   "source": [
    "on line cmake .. use can use below command instead\n",
    "\n",
    "$ cmake -D CMAKE_BUILD_TYPE=RELEASE -D CMAKE_INSTALL_PREFIX=/usr/local .."
   ]
  },
  {
   "cell_type": "markdown",
   "metadata": {},
   "source": [
    "## 4. Test the Installation\n",
    "$ cd samples/minimal # from build\n",
    "\n",
    "$ make -j8\n",
    "\n",
    "$ ./minimal"
   ]
  },
  {
   "cell_type": "code",
   "execution_count": null,
   "metadata": {},
   "outputs": [],
   "source": []
  }
 ],
 "metadata": {
  "kernelspec": {
   "display_name": "Python 3",
   "language": "python",
   "name": "python3"
  },
  "language_info": {
   "codemirror_mode": {
    "name": "ipython",
    "version": 3
   },
   "file_extension": ".py",
   "mimetype": "text/x-python",
   "name": "python",
   "nbconvert_exporter": "python",
   "pygments_lexer": "ipython3",
   "version": "3.7.4"
  }
 },
 "nbformat": 4,
 "nbformat_minor": 2
}
