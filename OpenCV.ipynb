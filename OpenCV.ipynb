{
 "cells": [
  {
   "cell_type": "markdown",
   "metadata": {},
   "source": [
    "# Installation in Linux\n",
    "ref01 : https://docs.opencv.org/4.1.2/d7/d9f/tutorial_linux_install.html <br>\n",
    "## Required Packaged\n",
    "1. GCC 4.4.x or later\n",
    "2. CMake 2.8.7 or higher\n",
    "3. Git\n",
    "4. GTK+2.x or higher, including headers (libgtk2.0-dev)\n",
    "5. pkg-config\n",
    "6. Python 2.6 or later and Numpy 1.5 or later with developer packages (python-dev, python-numpy) <br>\n",
    "7. ffmpeg or libav development packages: libavcodec-dev, libavformat-dev, libswscale-dev <br>\n",
    "8. [optional] libtbb2 libtbb-dev\n",
    "9. [optional] libdc1394 2.x\n",
    "10. [optional] libjpeg-dev, libpng-dev, libtiff-dev, libjasper-dev, libdc1394-22-dev\n",
    "11. [optional] CUDA Toolkit 6.5 or higher\n"
   ]
  },
  {
   "cell_type": "code",
   "execution_count": 3,
   "metadata": {},
   "outputs": [
    {
     "name": "stdout",
     "output_type": "stream",
     "text": [
      "gcc (Ubuntu 7.4.0-1ubuntu1~18.04.1) 7.4.0\r\n",
      "Copyright (C) 2017 Free Software Foundation, Inc.\r\n",
      "This is free software; see the source for copying conditions.  There is NO\r\n",
      "warranty; not even for MERCHANTABILITY or FITNESS FOR A PARTICULAR PURPOSE.\r\n",
      "\r\n"
     ]
    }
   ],
   "source": [
    "# First version of GCC should more than 4.4.0\n",
    "!gcc --version"
   ]
  },
  {
   "cell_type": "code",
   "execution_count": 4,
   "metadata": {},
   "outputs": [
    {
     "name": "stdout",
     "output_type": "stream",
     "text": [
      "/bin/sh: 1: cmake: not found\r\n"
     ]
    }
   ],
   "source": [
    "# cmake version should more than \n",
    "# can install by sudo apt-get install cmake\n",
    "!cmake --version"
   ]
  },
  {
   "cell_type": "markdown",
   "metadata": {},
   "source": [
    "[compiler] sudo apt-get install build-essential <br>\n",
    "[required] sudo apt-get install cmake git libgtk2.0-dev pkg-config libavcodec-dev libavformat-dev libswscale-dev <br>\n",
    "[optional] sudo apt-get install python-dev python-numpy libtbb2 libtbb-dev libjpeg-dev libpng-dev libtiff-dev libjasper-dev libdc1394-22-dev <br>"
   ]
  },
  {
   "cell_type": "markdown",
   "metadata": {},
   "source": [
    "# Download OpenCV Source Code\n",
    "Down load from git repository of OpenCV https://github.com/opencv/opencv <br>\n",
    "or choose on website https://opencv.org/releases/"
   ]
  },
  {
   "cell_type": "code",
   "execution_count": null,
   "metadata": {},
   "outputs": [],
   "source": []
  }
 ],
 "metadata": {
  "kernelspec": {
   "display_name": "Python 3",
   "language": "python",
   "name": "python3"
  },
  "language_info": {
   "codemirror_mode": {
    "name": "ipython",
    "version": 3
   },
   "file_extension": ".py",
   "mimetype": "text/x-python",
   "name": "python",
   "nbconvert_exporter": "python",
   "pygments_lexer": "ipython3",
   "version": "3.7.4"
  }
 },
 "nbformat": 4,
 "nbformat_minor": 2
}
