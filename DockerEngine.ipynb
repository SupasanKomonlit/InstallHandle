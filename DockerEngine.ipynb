{
 "cells": [
  {
   "cell_type": "markdown",
   "metadata": {},
   "source": [
    "# Uninstall Old Version\n",
    "reference01 : https://docs.docker.com/install/linux/docker-ce/ubuntu/"
   ]
  },
  {
   "cell_type": "markdown",
   "metadata": {},
   "source": [
    "sudo apt-get remove docker docker-engine docker.io containerd runc"
   ]
  },
  {
   "cell_type": "markdown",
   "metadata": {},
   "source": [
    "ในกรณีที่คุณได้ทำการถอนออกหมดแล้ว ทางระบบจะแจ้งกลับมาว่า ไม่มี packages ดังกล่าวติดตั้งอยู่"
   ]
  },
  {
   "cell_type": "markdown",
   "metadata": {},
   "source": [
    "# Install using the repository"
   ]
  },
  {
   "cell_type": "markdown",
   "metadata": {},
   "source": [
    "## Set up the repository\n",
    "1. sudo apt-get update <br>\n",
    "2. sudo apt-get install \\\\ <br>\n",
    "    apt-transport-https \\\\ <br>\n",
    "    ca-certificates \\\\ <br>\n",
    "    curl \\\\ <br>\n",
    "    gnupg-agent \\\\ <br>\n",
    "    software-properties-common\n",
    "3. curl -fsSL https://download.docker.com/linux/ubuntu/gpg | sudo apt-key add - \n",
    "4. sudo apt-key fingerprint 0EBFCD88\n",
    "5. sudo add-apt-repository \\\\ <br>\n",
    "   \"deb [arch=amd64] https://download.docker.com/linux/ubuntu \\\\ <br>\n",
    "   $(lsb_release -cs) \\\\ <br>\n",
    "   stable\""
   ]
  },
  {
   "cell_type": "markdown",
   "metadata": {},
   "source": [
    "## Install docker engine - community\n",
    "1. sudo apt-get update\n",
    "2. sudo apt-get install docker-ce docker-ce-cli containerd.io\n",
    "3. sudo docker run hello-world"
   ]
  },
  {
   "cell_type": "markdown",
   "metadata": {},
   "source": [
    "ในส่วนของข้อสอบนั้น เป็นการ verify ว่าคุณติดตั้งสำเร็จหรือไม่"
   ]
  },
  {
   "cell_type": "markdown",
   "metadata": {},
   "source": [
    "# Post installation steps for Linux\n",
    "reference01 : https://docs.docker.com/install/linux/linux-postinstall/"
   ]
  },
  {
   "cell_type": "markdown",
   "metadata": {},
   "source": [
    "1. enable docker <br>\n",
    "sudo systemctl enable docker <br>\n",
    "2. disable docker <br>\n",
    "sudo systemctl disable docker <br>"
   ]
  },
  {
   "cell_type": "code",
   "execution_count": null,
   "metadata": {},
   "outputs": [],
   "source": []
  }
 ],
 "metadata": {
  "kernelspec": {
   "display_name": "Python 3",
   "language": "python",
   "name": "python3"
  },
  "language_info": {
   "codemirror_mode": {
    "name": "ipython",
    "version": 3
   },
   "file_extension": ".py",
   "mimetype": "text/x-python",
   "name": "python",
   "nbconvert_exporter": "python",
   "pygments_lexer": "ipython3",
   "version": "3.7.4"
  }
 },
 "nbformat": 4,
 "nbformat_minor": 2
}
