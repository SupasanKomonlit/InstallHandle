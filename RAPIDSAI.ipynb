{
 "cells": [
  {
   "cell_type": "markdown",
   "metadata": {},
   "source": [
    "# RAPIDS \n",
    "ในส่วนนี้เป็นเกี่ยวกับวิธีการติดตั้ง การทำงานของ RAPIDS\n",
    "อ้างอิงจาก https://rapids.ai/start.html"
   ]
  },
  {
   "cell_type": "markdown",
   "metadata": {},
   "source": [
    "## PREREQUISTES\n",
    "โปรแกรม หรือส่วนที่จำเป็นเพื่อที่จะใช้ RAPIDS\n",
    "1. HARDWARE \n",
    "ฮาร์ดแวร์การ์ดจอ NVIDIA PASCAL หรือดีกว่าที่รองรับการคำนวณเวอร์ชั่น 6.0+"
   ]
  },
  {
   "cell_type": "markdown",
   "metadata": {},
   "source": [
    "### Check NVIDIA GPU"
   ]
  },
  {
   "cell_type": "code",
   "execution_count": 2,
   "metadata": {},
   "outputs": [
    {
     "name": "stdout",
     "output_type": "stream",
     "text": [
      "3c:00.0 3D controller: NVIDIA Corporation GP108M [GeForce MX150] (rev a1)\r\n"
     ]
    }
   ],
   "source": [
    "!lspci -v | grep NVIDIA"
   ]
  },
  {
   "cell_type": "markdown",
   "metadata": {},
   "source": [
    "เช็ครุ่นดังกล่าวว่า compute capability 6.0+ หรือไม่ ตามเว็บไซต์ <br> https://developer.nvidia.com/cuda-gpus#compute\n",
    "<br>จากการทำงานพบว่าเครื่องที่ใช้ทดสอบ GEForce MX150 ไม่อยู่ในส่่วนของ compute compability เลย"
   ]
  },
  {
   "cell_type": "markdown",
   "metadata": {},
   "source": [
    "## RAPIDS on Colab\n",
    "*https://colab.research.google.com/drive/14-8xdSOuSzxpycpuhM5mZ2E6xHa_jsNw#scrollTo=vELXKZ1Panll*"
   ]
  },
  {
   "cell_type": "markdown",
   "metadata": {},
   "source": [
    "*https://docs.rapids.ai/overview/latest.pdf*\n",
    " <br>above line is pdf file to overview software"
   ]
  },
  {
   "cell_type": "code",
   "execution_count": null,
   "metadata": {},
   "outputs": [],
   "source": []
  }
 ],
 "metadata": {
  "kernelspec": {
   "display_name": "Python 3",
   "language": "python",
   "name": "python3"
  },
  "language_info": {
   "codemirror_mode": {
    "name": "ipython",
    "version": 3
   },
   "file_extension": ".py",
   "mimetype": "text/x-python",
   "name": "python",
   "nbconvert_exporter": "python",
   "pygments_lexer": "ipython3",
   "version": "3.7.4"
  }
 },
 "nbformat": 4,
 "nbformat_minor": 2
}
